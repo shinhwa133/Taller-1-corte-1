{
  "nbformat": 4,
  "nbformat_minor": 0,
  "metadata": {
    "colab": {
      "provenance": []
    },
    "kernelspec": {
      "name": "python3",
      "display_name": "Python 3"
    },
    "language_info": {
      "name": "python"
    }
  },
  "cells": [
    {
      "cell_type": "markdown",
      "source": [
        "**TALLER 1 PRIMER CORTE**\n",
        "Estudiante: Diego Johan López Fonseca - 63201044"
      ],
      "metadata": {
        "id": "B4VAaBLl0PY_"
      }
    },
    {
      "cell_type": "code",
      "execution_count": 13,
      "metadata": {
        "id": "PYjj7GL6LU47"
      },
      "outputs": [],
      "source": [
        "def par_impar(num1, num2=2):\n",
        "    def es_entero(numero):\n",
        "        return isinstance(numero, int)\n",
        "\n",
        "    if es_entero(num1) and es_entero(num2):\n",
        "        suma = num1 + num2\n",
        "        if suma % 2 == 0:\n",
        "            print(f\"El número {suma} es par\")\n",
        "        else:\n",
        "            print(f\"El número {suma} es impar\")\n",
        "    else:\n",
        "        print(\"Los datos ingresados deben ser enteros\")"
      ]
    },
    {
      "cell_type": "code",
      "source": [
        "par_impar(5, 11)"
      ],
      "metadata": {
        "colab": {
          "base_uri": "https://localhost:8080/"
        },
        "id": "Y6D-5Ausoses",
        "outputId": "9050c310-e15e-4ea8-f1b4-c970255c58e8"
      },
      "execution_count": 15,
      "outputs": [
        {
          "output_type": "stream",
          "name": "stdout",
          "text": [
            "El número 16 es par\n"
          ]
        }
      ]
    },
    {
      "cell_type": "code",
      "source": [
        "def divide_suma_enteros(num1, num2, divisor):\n",
        "\n",
        "    def son_enteros(*args):\n",
        "        return all(isinstance(numero, int) for numero in args)\n",
        "\n",
        "    if son_enteros(num1, num2, divisor):\n",
        "        suma = num1 + num2\n",
        "        if divisor != 0:\n",
        "            resultado = suma / divisor\n",
        "            print(f\"El resultado de la división de la suma es: {resultado}\")\n",
        "        else:\n",
        "            print(\"No es posible dividir por cero\")\n",
        "    else:\n",
        "        print(\"Todos los números deben ser enteros\")\n"
      ],
      "metadata": {
        "id": "GFT3uHJaeV_l"
      },
      "execution_count": 16,
      "outputs": []
    },
    {
      "cell_type": "code",
      "source": [
        "divide_suma_enteros (4, 8, 0)"
      ],
      "metadata": {
        "colab": {
          "base_uri": "https://localhost:8080/"
        },
        "id": "vRyD-Csrin3G",
        "outputId": "579a9119-7160-4d1b-a026-46bc181955dc"
      },
      "execution_count": 17,
      "outputs": [
        {
          "output_type": "stream",
          "name": "stdout",
          "text": [
            "No es posible dividir por cero\n"
          ]
        }
      ]
    }
  ]
}